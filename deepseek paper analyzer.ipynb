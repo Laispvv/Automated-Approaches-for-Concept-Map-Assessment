{
 "cells": [
  {
   "cell_type": "code",
   "execution_count": null,
   "metadata": {},
   "outputs": [],
   "source": [
    "!pip install openai pandas\n",
    "!pip install xlrd openpyxl\n",
    "!pip install statsmodels"
   ]
  },
  {
   "cell_type": "code",
   "execution_count": 20,
   "metadata": {},
   "outputs": [],
   "source": [
    "from openai import OpenAI\n",
    "import pandas as pd\n",
    "import statsmodels as st"
   ]
  },
  {
   "cell_type": "code",
   "execution_count": null,
   "metadata": {},
   "outputs": [],
   "source": [
    "def send_prompt(prompt):\n",
    "    client = OpenAI(api_key=\"<key>\", base_url=\"https://api.deepseek.com\")\n",
    "    try:\n",
    "        response = client.chat.completions.create(\n",
    "            model=\"deepseek-reasoner\",\n",
    "            messages=[\n",
    "                {\"role\": \"system\", \"content\": \"You are a scientist\"},\n",
    "                {\"role\": \"user\", \"content\": prompt},\n",
    "            ],\n",
    "            stream=False\n",
    "        )\n",
    "        content = response.choices[0].message.content\n",
    "        return content\n",
    "    except Exception as e:\n",
    "        content = \"Não foi possível realizar a consulta.\"\n",
    "        return content"
   ]
  },
  {
   "cell_type": "code",
   "execution_count": null,
   "metadata": {},
   "outputs": [],
   "source": [
    "with open(\"classificacao_deepseek_r1_05_04.csv\", 'w') as file:\n",
    "    file.write(\"title|abstract|reason|answer\\n\")\n",
    "\n",
    "for titulo, resumo in deep_seek_selecao.values:\n",
    "    resumo_limpo = resumo.replace(\"\\n\", \" \").rstrip().strip()\n",
    "    titulo_limpo = titulo.replace(\"{\", \"\").replace(\"}\", \"\")\n",
    "    prompt = f\"\"\"Given the title of a scientific article and its abstract, determine whether the article should be included or excluded from the dataset.\n",
    "    To decide, consider that for an article to be included, it must:\n",
    "    - Use Concept Maps or Knowledge Maps as a teaching and learning tool in any educational environment.\n",
    "    - Perform any type of automated assessment of Concept Maps.\n",
    "    \n",
    "    Don't include an article if it just assess or create concept maps automatically, it must assess concept maps created by students.\n",
    "    \n",
    "    To respond, follow this exact format:\n",
    "    Provide an explanation of why the article should be included or excluded.\n",
    "    Ensure the response is formatted exactly as follows:\n",
    "    answer=included if the article should be included;\n",
    "    answer=excluded if it should be excluded;\n",
    "\n",
    "    These are the article details you must analyze:\n",
    "    Title: {titulo_limpo}\n",
    "    Abstract: {resumo_limpo}' \n",
    "    \"\"\"\n",
    "    content = send_prompt(prompt)\n",
    "    \n",
    "    if \"answer=\" not in content:\n",
    "        print(\"falhou com artigo\", titulo_limpo)\n",
    "        string_resultado = f\"{titulo_limpo}|{resumo_limpo}|{content.strip()}|error\\n\"\n",
    "        with open(\"classificacao_deepseek_r1_05_04.csv\", \"a\") as file:\n",
    "            file.write(string_resultado)\n",
    "    else:\n",
    "        texto = content.split(\"answer=\")\n",
    "        motivo = texto[0].replace(\"\\n\", \"\").strip()\n",
    "        resposta = texto[1].replace(\"\\n\", \"\").strip()\n",
    "        string_resultado = f\"{titulo_limpo}|{resumo_limpo}|{motivo}|{resposta}\\n\"\n",
    "        with open(\"classificacao_deepseek_r1_05_04.csv\", \"a\") as file:\n",
    "            file.write(string_resultado)"
   ]
  },
  {
   "cell_type": "markdown",
   "metadata": {},
   "source": [
    "---\n",
    "\n",
    "## Fleiss' Kappa"
   ]
  },
  {
   "cell_type": "code",
   "execution_count": 4,
   "metadata": {},
   "outputs": [],
   "source": [
    "selecao_p1 = pd.read_excel(\"review_p1.xls\")\n",
    "selecao_p1 = selecao_p1.loc[selecao_p1.status != \"Duplicated\"]\n",
    "selecao_p1.title = selecao_p1.title.apply(lambda x: x.replace(\"{\", \"\").replace(\"}\", \"\").lower().replace(\"’\", \"'\"))\n",
    "selecao_p2 = pd.read_csv(\"selecao_p2.csv\")\n",
    "selecao_p2.title = selecao_p2.title.apply(lambda x: x.replace(\"{\", \"\").replace(\"}\", \"\").lower().replace(\"’\", \"'\"))\n",
    "selecao_deepseek = pd.read_csv('classificacao_deepseek_r1_05_04.csv', sep=\"|\")"
   ]
  },
  {
   "cell_type": "code",
   "execution_count": 8,
   "metadata": {},
   "outputs": [],
   "source": [
    "lista_titulos_select = []\n",
    "for item in selecao_deepseek.title.values.tolist():\n",
    "    lista_titulos_select.append(item.lower().replace(\"’\", \"'\"))"
   ]
  },
  {
   "cell_type": "code",
   "execution_count": 9,
   "metadata": {},
   "outputs": [],
   "source": [
    "selecao_p1_cortada = selecao_p1.loc[selecao_p1.title.isin(lista_titulos_select)]"
   ]
  },
  {
   "cell_type": "code",
   "execution_count": 11,
   "metadata": {},
   "outputs": [],
   "source": [
    "selecao_p1_cortada = selecao_p1_cortada.sort_values(by='title')\n",
    "selecao_p2 = selecao_p2.sort_values(by='title')\n",
    "selecao_deepseek = selecao_deepseek.sort_values(by='title')"
   ]
  },
  {
   "cell_type": "code",
   "execution_count": 12,
   "metadata": {},
   "outputs": [],
   "source": [
    "selecao_p1_cortada['resposta_numerica'] = selecao_p1_cortada['status'].apply(lambda x: 0 if x == 'Rejected' else 1)\n",
    "selecao_p2['resposta_numerica'] = selecao_p2['Avaliação'].apply(lambda x: 0 if x == 'Rejected' else 1)\n",
    "selecao_deepseek['resposta_numerica'] = selecao_deepseek['answer'].apply(lambda x: 0 if x == 'excluded' else 1)"
   ]
  },
  {
   "cell_type": "code",
   "execution_count": null,
   "metadata": {},
   "outputs": [],
   "source": [
    "import numpy as np\n",
    "from statsmodels.stats import inter_rater as irr\n",
    "\n",
    "avaliador1 = selecao_p1_cortada['resposta_numerica'].values.tolist()\n",
    "avaliador2 = selecao_p2['resposta_numerica'].values.tolist()\n",
    "avaliador3 = selecao_deepseek['resposta_numerica'].values.tolist()\n",
    "# Número de artigos e avaliadores\n",
    "n_artigos = len(avaliador1)\n",
    "n_avaliadores = 3\n",
    "\n",
    "# Inicializar a matriz de contagem\n",
    "matriz_contagem = np.zeros((n_artigos, 2))  # 2 categorias: 0 e 1\n",
    "\n",
    "# Preencher a matriz de contagem\n",
    "for i in range(n_artigos):\n",
    "    # Contar quantos avaliadores marcaram 0 (rejeitado) e 1 (aceito) para o artigo i\n",
    "    count_0 = (avaliador1[i] == 0) + (avaliador2[i] == 0) + (avaliador3[i] == 0)\n",
    "    count_1 = (avaliador1[i] == 1) + (avaliador2[i] == 1) + (avaliador3[i] == 1)\n",
    "    \n",
    "    matriz_contagem[i, 0] = count_0\n",
    "    matriz_contagem[i, 1] = count_1\n",
    "\n",
    "# Calcular o Fleiss' Kappa\n",
    "kappa = irr.fleiss_kappa(matriz_contagem)\n",
    "\n",
    "print(\"Matriz de contagem:\")\n",
    "print(matriz_contagem)\n",
    "print(\"\\nFleiss' Kappa:\", kappa)"
   ]
  }
 ],
 "metadata": {
  "kernelspec": {
   "display_name": ".venv",
   "language": "python",
   "name": "python3"
  },
  "language_info": {
   "codemirror_mode": {
    "name": "ipython",
    "version": 3
   },
   "file_extension": ".py",
   "mimetype": "text/x-python",
   "name": "python",
   "nbconvert_exporter": "python",
   "pygments_lexer": "ipython3",
   "version": "3.11.9"
  }
 },
 "nbformat": 4,
 "nbformat_minor": 2
}
